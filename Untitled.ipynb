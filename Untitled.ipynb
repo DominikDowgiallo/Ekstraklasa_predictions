{
 "cells": [
  {
   "cell_type": "code",
   "execution_count": 3,
   "id": "703fc6cc",
   "metadata": {},
   "outputs": [],
   "source": [
    "import pandas as pd"
   ]
  },
  {
   "cell_type": "code",
   "execution_count": 4,
   "id": "fa1a4f22",
   "metadata": {},
   "outputs": [
    {
     "name": "stdout",
     "output_type": "stream",
     "text": [
      "Index(['index', 'Season', 'Round', 'Date', 'Team_Home', 'Team_Away',\n",
      "       'Ball_possession_home', 'Ball_possession_away', 'Goal_sit_home',\n",
      "       'Goal_sit_away', 'Shots_target_home', 'Shots_target_away',\n",
      "       'Shots_no_target_home', 'Shots_no_target_away', 'Corners_home',\n",
      "       'Corners_away', 'Offsides_home', 'Offsides_away', 'GK_inter_home',\n",
      "       'GK_inter_away', 'Fauls_home', 'Fauls_away', 'Yellow_home',\n",
      "       'Yellow_away', 'Red_home', 'Red_away', 'Goals_home', 'Goals_away',\n",
      "       'Result'],\n",
      "      dtype='object')\n"
     ]
    }
   ],
   "source": [
    "df = pd.read_csv('df.csv')\n",
    "df = df.drop(columns='Unnamed: 0')\n",
    "print(df.columns)"
   ]
  },
  {
   "cell_type": "code",
   "execution_count": 5,
   "id": "5313fbfa",
   "metadata": {},
   "outputs": [],
   "source": [
    "def rolling_averages(group, cols, new_cols):\n",
    "    group = group.sort_values(\"Date\")\n",
    "    rolling_stats = group[cols].rolling(3, closed='left').mean()\n",
    "    group[new_cols] = rolling_stats\n",
    "    group = group.dropna(subset=new_cols)\n",
    "    return group"
   ]
  },
  {
   "cell_type": "code",
   "execution_count": 6,
   "id": "8c6ee097",
   "metadata": {},
   "outputs": [],
   "source": [
    "cols = ['Ball_possession_home', 'Ball_possession_away',\n",
    "       'Goal_sit_home', 'Goal_sit_away', 'Shots_target_home',\n",
    "       'Shots_target_away', 'Shots_no_target_home', 'Shots_no_target_away',\n",
    "       'Corners_home', 'Corners_away', 'Offsides_home', 'Offsides_away',\n",
    "       'GK_inter_home', 'GK_inter_away', 'Fauls_home', 'Fauls_away',\n",
    "       'Yellow_home', 'Yellow_away', 'Red_home', 'Red_away', 'Goals_home',\n",
    "       'Goals_away']\n",
    "new_cols = [f'{c}_rolling' for c in cols]"
   ]
  },
  {
   "cell_type": "code",
   "execution_count": 7,
   "id": "e17cd2e0",
   "metadata": {},
   "outputs": [],
   "source": [
    "matches_rolling = df.groupby(\"Team_Home\").apply(lambda x: rolling_averages(x, cols, new_cols))"
   ]
  },
  {
   "cell_type": "code",
   "execution_count": 8,
   "id": "2fbf84d4",
   "metadata": {},
   "outputs": [],
   "source": [
    "matches_rolling = matches_rolling.droplevel('Team_Home')"
   ]
  },
  {
   "cell_type": "code",
   "execution_count": 9,
   "id": "7bbc1609",
   "metadata": {},
   "outputs": [],
   "source": [
    "matches_rolling.index = range(matches_rolling.shape[0])"
   ]
  },
  {
   "cell_type": "code",
   "execution_count": 10,
   "id": "334839ae",
   "metadata": {},
   "outputs": [],
   "source": [
    "from sklearn import preprocessing\n",
    "le = preprocessing.LabelEncoder()"
   ]
  },
  {
   "cell_type": "code",
   "execution_count": 11,
   "id": "fa220852",
   "metadata": {},
   "outputs": [],
   "source": [
    "matches_rolling['Result'] = le.fit_transform(matches_rolling['Result'])"
   ]
  },
  {
   "cell_type": "code",
   "execution_count": 12,
   "id": "b54064bc",
   "metadata": {},
   "outputs": [
    {
     "name": "stdout",
     "output_type": "stream",
     "text": [
      "[2 0 1]\n"
     ]
    }
   ],
   "source": [
    "print(matches_rolling['Result'].unique())"
   ]
  },
  {
   "cell_type": "code",
   "execution_count": 13,
   "id": "1dd482fc",
   "metadata": {},
   "outputs": [],
   "source": [
    "from sklearn.ensemble import RandomForestClassifier\n",
    "rf = RandomForestClassifier(n_estimators=100, min_samples_split=2, random_state=5)"
   ]
  },
  {
   "cell_type": "code",
   "execution_count": 14,
   "id": "c961943e",
   "metadata": {},
   "outputs": [
    {
     "name": "stdout",
     "output_type": "stream",
     "text": [
      "Index(['index', 'Season', 'Round', 'Date', 'Team_Home', 'Team_Away',\n",
      "       'Ball_possession_home', 'Ball_possession_away', 'Goal_sit_home',\n",
      "       'Goal_sit_away', 'Shots_target_home', 'Shots_target_away',\n",
      "       'Shots_no_target_home', 'Shots_no_target_away', 'Corners_home',\n",
      "       'Corners_away', 'Offsides_home', 'Offsides_away', 'GK_inter_home',\n",
      "       'GK_inter_away', 'Fauls_home', 'Fauls_away', 'Yellow_home',\n",
      "       'Yellow_away', 'Red_home', 'Red_away', 'Goals_home', 'Goals_away',\n",
      "       'Result', 'Ball_possession_home_rolling',\n",
      "       'Ball_possession_away_rolling', 'Goal_sit_home_rolling',\n",
      "       'Goal_sit_away_rolling', 'Shots_target_home_rolling',\n",
      "       'Shots_target_away_rolling', 'Shots_no_target_home_rolling',\n",
      "       'Shots_no_target_away_rolling', 'Corners_home_rolling',\n",
      "       'Corners_away_rolling', 'Offsides_home_rolling',\n",
      "       'Offsides_away_rolling', 'GK_inter_home_rolling',\n",
      "       'GK_inter_away_rolling', 'Fauls_home_rolling', 'Fauls_away_rolling',\n",
      "       'Yellow_home_rolling', 'Yellow_away_rolling', 'Red_home_rolling',\n",
      "       'Red_away_rolling', 'Goals_home_rolling', 'Goals_away_rolling'],\n",
      "      dtype='object')\n"
     ]
    }
   ],
   "source": [
    "print(matches_rolling.columns)"
   ]
  },
  {
   "cell_type": "code",
   "execution_count": 15,
   "id": "7e0cd487",
   "metadata": {},
   "outputs": [],
   "source": [
    "matches_rolling = matches_rolling.query('Round > 3')"
   ]
  },
  {
   "cell_type": "code",
   "execution_count": 16,
   "id": "1f7255d5",
   "metadata": {},
   "outputs": [],
   "source": [
    "X = matches_rolling[new_cols]\n",
    "Y = matches_rolling['Result']"
   ]
  },
  {
   "cell_type": "code",
   "execution_count": 17,
   "id": "d7257eee",
   "metadata": {},
   "outputs": [],
   "source": [
    "from sklearn.model_selection import train_test_split\n",
    "X_train, X_test, y_train, y_test = train_test_split(X, Y, test_size=0.2, random_state=42)"
   ]
  },
  {
   "cell_type": "code",
   "execution_count": 18,
   "id": "d35fa2d2",
   "metadata": {},
   "outputs": [
    {
     "data": {
      "text/plain": [
       "RandomForestClassifier(random_state=5)"
      ]
     },
     "execution_count": 18,
     "metadata": {},
     "output_type": "execute_result"
    }
   ],
   "source": [
    "rf.fit(X_train,y_train)"
   ]
  },
  {
   "cell_type": "code",
   "execution_count": 19,
   "id": "61b9ad2e",
   "metadata": {},
   "outputs": [],
   "source": [
    "y_pred = rf.predict(X_test)"
   ]
  },
  {
   "cell_type": "code",
   "execution_count": 20,
   "id": "7e13992a",
   "metadata": {},
   "outputs": [
    {
     "name": "stdout",
     "output_type": "stream",
     "text": [
      "              precision    recall  f1-score   support\n",
      "\n",
      "           0       0.26      0.14      0.18       135\n",
      "           1       0.27      0.14      0.18       154\n",
      "           2       0.49      0.76      0.59       244\n",
      "\n",
      "    accuracy                           0.42       533\n",
      "   macro avg       0.34      0.35      0.32       533\n",
      "weighted avg       0.37      0.42      0.37       533\n",
      "\n"
     ]
    }
   ],
   "source": [
    "from sklearn.metrics import classification_report\n",
    "print(classification_report(y_test,y_pred))"
   ]
  },
  {
   "cell_type": "code",
   "execution_count": 21,
   "id": "54294590",
   "metadata": {},
   "outputs": [
    {
     "data": {
      "text/plain": [
       "0.42401500938086306"
      ]
     },
     "execution_count": 21,
     "metadata": {},
     "output_type": "execute_result"
    }
   ],
   "source": [
    "rf.score(X_test, y_test)"
   ]
  },
  {
   "cell_type": "code",
   "execution_count": 22,
   "id": "91272c5b",
   "metadata": {},
   "outputs": [
    {
     "data": {
      "text/plain": [
       "KNeighborsClassifier(n_neighbors=20)"
      ]
     },
     "execution_count": 22,
     "metadata": {},
     "output_type": "execute_result"
    }
   ],
   "source": [
    "from sklearn.neighbors import KNeighborsClassifier\n",
    "\n",
    "knn = KNeighborsClassifier(n_neighbors=20)\n",
    "knn.fit(X_train, y_train)"
   ]
  },
  {
   "cell_type": "code",
   "execution_count": 23,
   "id": "00c3bcaf",
   "metadata": {},
   "outputs": [
    {
     "data": {
      "text/plain": [
       "0.39399624765478425"
      ]
     },
     "execution_count": 23,
     "metadata": {},
     "output_type": "execute_result"
    }
   ],
   "source": [
    "knn.score(X_test, y_test)"
   ]
  }
 ],
 "metadata": {
  "kernelspec": {
   "display_name": "Python 3 (ipykernel)",
   "language": "python",
   "name": "python3"
  },
  "language_info": {
   "codemirror_mode": {
    "name": "ipython",
    "version": 3
   },
   "file_extension": ".py",
   "mimetype": "text/x-python",
   "name": "python",
   "nbconvert_exporter": "python",
   "pygments_lexer": "ipython3",
   "version": "3.9.7"
  }
 },
 "nbformat": 4,
 "nbformat_minor": 5
}
